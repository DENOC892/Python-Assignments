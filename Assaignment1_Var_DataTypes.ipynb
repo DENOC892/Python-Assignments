{
 "cells": [
  {
   "cell_type": "markdown",
   "metadata": {},
   "source": [
    "# Assignment Instructions\n",
    "\n",
    "`Hello Innominion,`\n",
    "\n",
    "- **Try to attempt all the questions in every possible way.**\n",
    "- **Some other topics are required to solve some questions. don't panic.**\n",
    "- **Those questions can be answered after the topics are taught.**\n",
    "\n",
    "\n",
    "- `Join Mentoring Session for the Support/Doubts Resolving with Our Technical Mentors (2.00 PM - 6.00 PM  Mon-Sat)` \n",
    "\n",
    "Happy Learning !!!"
   ]
  },
  {
   "cell_type": "markdown",
   "metadata": {},
   "source": [
    "## Basics of Python"
   ]
  },
  {
   "cell_type": "markdown",
   "metadata": {},
   "source": [
    "> `Question:` Print your name"
   ]
  },
  {
   "cell_type": "code",
   "execution_count": 1,
   "metadata": {},
   "outputs": [
    {
     "name": "stdout",
     "output_type": "stream",
     "text": [
      "My name is Innomatics\n"
     ]
    }
   ],
   "source": [
    "# CODE HERE\n",
    "\n",
    "print(\"My name is Innomatics\")"
   ]
  },
  {
   "cell_type": "markdown",
   "metadata": {},
   "source": [
    "> `Question:` What is a variable? Write a Few words about Variables. Create a Variable with an Example. "
   ]
  },
  {
   "cell_type": "markdown",
   "metadata": {},
   "source": [
    "# WRITE HERE\n",
    "\n",
    "Variable: A variable is an identifier which can be used to hold certain values. there are some rules to be followed while declaring a variable, they are given as follows:\n",
    "\n",
    "    Do's:\n",
    "        -A variable should be alpha-numeric i.e, it should contain (a-z,A-Z,0-9) values.\n",
    "        -A variable can have '_' character in it.\n",
    "        -A variable should start with a letter, then can be followed by a number.\n",
    "        \n",
    "    Dont's:\n",
    "        -A variable should not have any special characters other than '_'.\n",
    "        -A variable cannot be a keyword.\n",
    "        -A variable cannot start with a digit (0-9).\n",
    "        \n",
    "        \n",
    "    "
   ]
  },
  {
   "cell_type": "code",
   "execution_count": 2,
   "metadata": {},
   "outputs": [
    {
     "name": "stdout",
     "output_type": "stream",
     "text": [
      "var_1 is a valid variable. where var_1 = A variable.\n"
     ]
    }
   ],
   "source": [
    "# Code Here\n",
    "\n",
    "var_1 = \"A variable.\"\n",
    "\n",
    "print(f\"var_1 is a valid variable. where var_1 = {var_1}\")\n",
    "\n"
   ]
  },
  {
   "cell_type": "markdown",
   "metadata": {},
   "source": [
    ">`Question:` Assume that we execute the following assignment statements:\n",
    "width = 17\n",
    "height = 12.0\n",
    "delimiter = '.'\n",
    "For each of the following expressions, write the value of the expression and the type (of the value of\n",
    "the expression).\n",
    "1. width/2\n",
    "2. width/2.0\n",
    "3. height/3\n",
    "4. 1 + 2 * 5\n",
    "5. delimiter * 5"
   ]
  },
  {
   "cell_type": "code",
   "execution_count": 11,
   "metadata": {},
   "outputs": [
    {
     "name": "stdout",
     "output_type": "stream",
     "text": [
      "width/2 = 8.5\n",
      "<class 'float'>\n",
      "width/2.0 = 8.5\n",
      "<class 'float'>\n",
      "height/3 = 4.0\n",
      "<class 'float'>\n",
      "11\n",
      "<class 'int'>\n",
      ".....\n",
      "<class 'str'>\n"
     ]
    }
   ],
   "source": [
    "# CODE HERE\n",
    "width = 17 \n",
    "height = 12.0\n",
    "delimiter = '.'\n",
    "\n",
    "print(f\"width/2 = {width/2}\")\n",
    "print(type(width/2))\n",
    "print(f\"width/2.0 = {width/2.0}\")\n",
    "print(type(width/2.0))\n",
    "print(f\"height/3 = {height/3}\")\n",
    "print(type(height/3))\n",
    "print(f\"{1+2*5}\")\n",
    "print(type(1+2*5))\n",
    "print(delimiter * 5)\n",
    "print(type(delimiter * 5))\n",
    "      \n",
    "      "
   ]
  },
  {
   "cell_type": "raw",
   "metadata": {},
   "source": [
    "# Sample Outputs\n",
    "1. width/2 = 8.5\n",
    "2. width/2.0 = 8.5\n",
    "3. height/3 = 4.0\n",
    "4. 11\n",
    "5. ....."
   ]
  },
  {
   "cell_type": "markdown",
   "metadata": {},
   "source": [
    "> `Question:` Add two number by taking variable names as first and seccond"
   ]
  },
  {
   "cell_type": "code",
   "execution_count": 12,
   "metadata": {},
   "outputs": [],
   "source": [
    "#CODE HERE\n",
    "first = 35"
   ]
  },
  {
   "cell_type": "code",
   "execution_count": 14,
   "metadata": {},
   "outputs": [
    {
     "name": "stdout",
     "output_type": "stream",
     "text": [
      "Addition of two numbers are: 713\n"
     ]
    }
   ],
   "source": [
    "second = 678\n",
    "\n",
    "print(f\"Addition of two numbers are: {first+second}\")"
   ]
  },
  {
   "cell_type": "markdown",
   "metadata": {},
   "source": [
    "> `Question:` Add your first name and second name"
   ]
  },
  {
   "cell_type": "code",
   "execution_count": 17,
   "metadata": {},
   "outputs": [],
   "source": [
    "# CODE HERE\n",
    "first_name = \"Enoch\"\n",
    "second_name = \" Domathoti\""
   ]
  },
  {
   "cell_type": "code",
   "execution_count": 18,
   "metadata": {},
   "outputs": [
    {
     "name": "stdout",
     "output_type": "stream",
     "text": [
      "My full name is: Enoch Domathoti\n"
     ]
    }
   ],
   "source": [
    "full_name = first_name + second_name\n",
    "\n",
    "print(f\"My full name is: {full_name}\")"
   ]
  },
  {
   "cell_type": "markdown",
   "metadata": {},
   "source": [
    "> `Question:` print the datatypes of the following\n",
    "- 10,'10',True,10.5"
   ]
  },
  {
   "cell_type": "code",
   "execution_count": 22,
   "metadata": {},
   "outputs": [
    {
     "name": "stdout",
     "output_type": "stream",
     "text": [
      "10 - <class 'int'>\n",
      "'10' - <class 'str'>\n",
      "True - <class 'bool'>\n",
      "10.5 - <class 'float'>\n"
     ]
    }
   ],
   "source": [
    "# CODE HERE\n",
    "print(f\"10 - {type(10)}\")\n",
    "print(f\"'10' - {type('10')}\")\n",
    "print(f\"True - {type(True)}\")\n",
    "print(f\"10.5 - {type(10.5)}\")\n"
   ]
  },
  {
   "cell_type": "markdown",
   "metadata": {},
   "source": [
    " `Question:` \n",
    "> - num_int = 123\n",
    "> - num_str = \"456\"\n",
    "> - Add num_int and num_str\n",
    "- `hint: first need to convert num_str into integer`"
   ]
  },
  {
   "cell_type": "code",
   "execution_count": 24,
   "metadata": {},
   "outputs": [
    {
     "name": "stdout",
     "output_type": "stream",
     "text": [
      "Addition of 123 and 456 is : 579\n"
     ]
    }
   ],
   "source": [
    "# CODE HERE\n",
    "num_int = 123\n",
    "num_str = \"456\"\n",
    "print(f\"Addition of 123 and 456 is : {num_int + int(num_str)}\")"
   ]
  },
  {
   "cell_type": "code",
   "execution_count": 13,
   "metadata": {},
   "outputs": [
    {
     "name": "stdout",
     "output_type": "stream",
     "text": [
      "Addition of 123 and 456 is :  579\n"
     ]
    }
   ],
   "source": []
  },
  {
   "cell_type": "code",
   "execution_count": null,
   "metadata": {},
   "outputs": [],
   "source": []
  },
  {
   "cell_type": "markdown",
   "metadata": {},
   "source": [
    "### Advanced Questions"
   ]
  },
  {
   "cell_type": "markdown",
   "metadata": {},
   "source": [
    "> `Question:` The volume of a sphere with radius r is  4/3πr3  . What is the volume of a sphere with radius 5?"
   ]
  },
  {
   "cell_type": "code",
   "execution_count": 25,
   "metadata": {},
   "outputs": [
    {
     "name": "stdout",
     "output_type": "stream",
     "text": [
      "Volume = 523.3333333333334\n"
     ]
    }
   ],
   "source": [
    "# CODE HERE\n",
    "radius = 5\n",
    "pi = 3.14\n",
    "print(f\"Volume = {(4/3)*pi*radius**3}\")"
   ]
  },
  {
   "cell_type": "markdown",
   "metadata": {},
   "source": [
    "> `Question:` Suppose the cover price of a book is Rs.24.95, but bookstores get a 40% discount. Shipping costs Rs.3 for the first copy and 75 paise for each additional copy. What is the total wholesale cost for 60 copies?"
   ]
  },
  {
   "cell_type": "code",
   "execution_count": 26,
   "metadata": {},
   "outputs": [],
   "source": [
    "# CODE HERE\n",
    "cover_p = 24.95\n",
    "discount = 0.4\n",
    "ship_cost1 = 3\n",
    "ship_cost2 = 0.75"
   ]
  },
  {
   "cell_type": "code",
   "execution_count": 35,
   "metadata": {},
   "outputs": [],
   "source": [
    "wholesale_cost = (cover_p - cover_p * discount) * 60 + ship_cost1 + 59 * ship_cost2"
   ]
  },
  {
   "cell_type": "code",
   "execution_count": 36,
   "metadata": {},
   "outputs": [
    {
     "name": "stdout",
     "output_type": "stream",
     "text": [
      "The wholesale cost for 60 books is: 945.4499999999999/-\n"
     ]
    }
   ],
   "source": [
    "print(f\"The wholesale cost for 60 books is: {wholesale_cost}/-\")"
   ]
  },
  {
   "cell_type": "markdown",
   "metadata": {},
   "source": [
    "# [Innomatics Research Labs](https:/innomatics.in/)\n",
    "[www.innomatics.in](https:/innomatics.in/)"
   ]
  }
 ],
 "metadata": {
  "kernelspec": {
   "display_name": "Python 3 (ipykernel)",
   "language": "python",
   "name": "python3"
  },
  "language_info": {
   "codemirror_mode": {
    "name": "ipython",
    "version": 3
   },
   "file_extension": ".py",
   "mimetype": "text/x-python",
   "name": "python",
   "nbconvert_exporter": "python",
   "pygments_lexer": "ipython3",
   "version": "3.11.3"
  }
 },
 "nbformat": 4,
 "nbformat_minor": 2
}

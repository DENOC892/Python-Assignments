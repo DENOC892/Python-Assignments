{
 "cells": [
  {
   "cell_type": "markdown",
   "metadata": {},
   "source": [
    "# Assignment Instructions\n",
    "\n",
    "`Hello Innominion,`\n",
    "\n",
    "- **Try to attempt all the questions in every possible way.**\n",
    "- **Some other topics are required to solve some questions. don't panic.**\n",
    "- **Those questions can be answered after the topics are taught.**\n",
    "\n",
    "\n",
    "- `Join Mentoring Session for the Support/Doubts Resolving with Our Technical Mentors (2.00 PM - 6.00 PM  Mon-Sat)` \n",
    "\n",
    "Happy Learning !!!"
   ]
  },
  {
   "cell_type": "markdown",
   "metadata": {},
   "source": [
    "###  Dictionary"
   ]
  },
  {
   "cell_type": "markdown",
   "metadata": {},
   "source": [
    "**`Question :`Create Dictionary for following information as \"person1\":**\n",
    "   - Name = John\n",
    "   - Gender= Male\n",
    "   - Occupation = Data Scientist\n",
    "   - Location  = Nizampet, Hyderabad"
   ]
  },
  {
   "cell_type": "code",
   "execution_count": 1,
   "metadata": {},
   "outputs": [],
   "source": [
    "# CODE HERE\n",
    "person1 = {\"Name\":\"John\",\n",
    "          \"Gender\":\"Male\",\n",
    "          \"Occupation\":\"Data Scientist\",\n",
    "          \"Location\":\"Nizampet, Hyderabad\"}"
   ]
  },
  {
   "cell_type": "code",
   "execution_count": 2,
   "metadata": {},
   "outputs": [
    {
     "data": {
      "text/plain": [
       "{'Name': 'John',\n",
       " 'Gender': 'Male',\n",
       " 'Occupation': 'Data Scientist',\n",
       " 'Location': 'Nizampet, Hyderabad'}"
      ]
     },
     "execution_count": 2,
     "metadata": {},
     "output_type": "execute_result"
    }
   ],
   "source": [
    "person1"
   ]
  },
  {
   "cell_type": "markdown",
   "metadata": {},
   "source": [
    "> print keys in person1 as a list"
   ]
  },
  {
   "cell_type": "code",
   "execution_count": 4,
   "metadata": {},
   "outputs": [
    {
     "data": {
      "text/plain": [
       "['Name', 'Gender', 'Occupation', 'Location']"
      ]
     },
     "execution_count": 4,
     "metadata": {},
     "output_type": "execute_result"
    }
   ],
   "source": [
    "# CODE HERE\n",
    "list_p =[]\n",
    "for key in person1:\n",
    "    list_p.append(key)\n",
    "    \n",
    "list_p"
   ]
  },
  {
   "cell_type": "markdown",
   "metadata": {},
   "source": [
    "> **`Question:` Remove Location in person1**"
   ]
  },
  {
   "cell_type": "code",
   "execution_count": 7,
   "metadata": {},
   "outputs": [
    {
     "data": {
      "text/plain": [
       "'Nizampet, Hyderabad'"
      ]
     },
     "execution_count": 7,
     "metadata": {},
     "output_type": "execute_result"
    }
   ],
   "source": [
    "# CODE HERE\n",
    "person1.pop(\"Location\")"
   ]
  },
  {
   "cell_type": "code",
   "execution_count": 8,
   "metadata": {},
   "outputs": [
    {
     "data": {
      "text/plain": [
       "{'Name': 'John', 'Gender': 'Male', 'Occupation': 'Data Scientist'}"
      ]
     },
     "execution_count": 8,
     "metadata": {},
     "output_type": "execute_result"
    }
   ],
   "source": [
    "person1"
   ]
  },
  {
   "cell_type": "markdown",
   "metadata": {},
   "source": [
    "> **`Question:` Create dictionary of person2 with**\n",
    "- Name  = Raghu Ram\n",
    "- Gender = Male\n",
    "- Age  = 25\n",
    "- Occupation = Data Scienctist"
   ]
  },
  {
   "cell_type": "code",
   "execution_count": 12,
   "metadata": {},
   "outputs": [],
   "source": [
    "# CODE HERE\n",
    "person2 = {\n",
    "    \"Name\": \"Raghu Ram\",\n",
    "    \"Gender\": \"Male\",\n",
    "    \"Age\": 25,\n",
    "    \"Occupation\":\"Data Scientist\"\n",
    "    }"
   ]
  },
  {
   "cell_type": "code",
   "execution_count": 13,
   "metadata": {},
   "outputs": [
    {
     "data": {
      "text/plain": [
       "{'Name': 'Raghu Ram',\n",
       " 'Gender': 'Male',\n",
       " 'Age': 25,\n",
       " 'Occupation': 'Data Scientist'}"
      ]
     },
     "execution_count": 13,
     "metadata": {},
     "output_type": "execute_result"
    }
   ],
   "source": [
    "person2"
   ]
  },
  {
   "cell_type": "markdown",
   "metadata": {},
   "source": [
    "> **`Question:` Print the output as show below**"
   ]
  },
  {
   "cell_type": "code",
   "execution_count": 14,
   "metadata": {},
   "outputs": [
    {
     "name": "stdout",
     "output_type": "stream",
     "text": [
      "==================== person1 ====================\n",
      "{'Name': 'John', 'Gender': 'Male', 'Occupation': 'Data Scientist'}\n",
      "==================== person2 ====================\n",
      "{'Name': 'Raghu Ram', 'Gender': 'Male', 'Age': 25, 'Occupation': 'Data Scientist'}\n"
     ]
    }
   ],
   "source": [
    "# CODE HERE\n",
    "print(\"==================== person1 ====================\")\n",
    "print(person1)\n",
    "print(\"==================== person2 ====================\")\n",
    "print(person2)"
   ]
  },
  {
   "cell_type": "markdown",
   "metadata": {},
   "source": [
    "# create a dictionary\n",
    "#### `Question:` remove the elements from that dictionary using different methods\n",
    "{1: 1, 2: 4, 3: 9, 4: 16, 5: 25,6:36,7:49}"
   ]
  },
  {
   "cell_type": "code",
   "execution_count": 15,
   "metadata": {},
   "outputs": [
    {
     "name": "stdout",
     "output_type": "stream",
     "text": [
      "{1: 1, 2: 4, 4: 16, 5: 25, 6: 36, 7: 49}\n",
      "{1: 1, 2: 4, 4: 16, 5: 25, 6: 36}\n"
     ]
    },
    {
     "data": {
      "text/plain": [
       "{}"
      ]
     },
     "execution_count": 15,
     "metadata": {},
     "output_type": "execute_result"
    }
   ],
   "source": [
    "# CODE HERE\n",
    "squares = {1: 1, 2: 4, 3: 9, 4: 16, 5: 25,6:36,7:49}\n",
    "\n",
    "#Using pop()\n",
    "squares.pop(3)\n",
    "print(squares)\n",
    "#Using popitem()\n",
    "squares.popitem()\n",
    "print(squares)\n",
    "#Using clear()\n",
    "squares.clear()\n",
    "squares\n",
    "\n",
    "\n"
   ]
  },
  {
   "cell_type": "markdown",
   "metadata": {},
   "source": [
    "\n",
    "### `Question:` print the values from the given dictionary in descending order\n",
    "{0: 0, 1: 1, 3: 9, 5: 25, 7: 49, 9: 81}"
   ]
  },
  {
   "cell_type": "code",
   "execution_count": 21,
   "metadata": {},
   "outputs": [
    {
     "data": {
      "text/plain": [
       "[81, 49, 25, 9, 1, 0]"
      ]
     },
     "execution_count": 21,
     "metadata": {},
     "output_type": "execute_result"
    }
   ],
   "source": [
    "# CODE HERE\n",
    "d = {0: 0, 1: 1, 3: 9, 5: 25, 7: 49, 9: 81}\n",
    "list_d = []\n",
    "for key in d:\n",
    "   list_d.append(d[key])\n",
    "\n",
    "list_d.sort(reverse=True)\n",
    "list_d"
   ]
  },
  {
   "cell_type": "markdown",
   "metadata": {},
   "source": [
    "### `Question:` merge the below 3 dictionaries\n",
    "dict1 = { 'a': 1, 'b': 2 }\n",
    "dict2 = { 'b': 3, 'c': 4 }\n",
    "dict3 = { 'c': 5, 'd': 6 }"
   ]
  },
  {
   "cell_type": "code",
   "execution_count": 26,
   "metadata": {},
   "outputs": [
    {
     "data": {
      "text/plain": [
       "{'a': 1, 'b': 3, 'c': 5, 'd': 6}"
      ]
     },
     "execution_count": 26,
     "metadata": {},
     "output_type": "execute_result"
    }
   ],
   "source": [
    "\n",
    "dict1 = { 'a': 1, 'b': 2 }\n",
    "dict2 = { 'b': 3, 'c': 4 }\n",
    "dict3 = { 'c': 5, 'd': 6 }\n",
    "\n",
    "dict1.update(dict2)\n",
    "dict1.update(dict3)\n",
    "dict1"
   ]
  },
  {
   "cell_type": "markdown",
   "metadata": {},
   "source": [
    "**`Question:` change Charan’s salary to 8500 in the following dictionary**"
   ]
  },
  {
   "cell_type": "raw",
   "metadata": {},
   "source": [
    "sample_dict = {\n",
    "    'emp1': {'name': 'Jhony', 'salary': 7500},\n",
    "    'emp2': {'name': 'Ravi', 'salary': 8000},\n",
    "    'emp3': {'name': 'Charan', 'salary': 6500}\n",
    "}"
   ]
  },
  {
   "cell_type": "code",
   "execution_count": 28,
   "metadata": {},
   "outputs": [],
   "source": [
    "# CODE HERE\n",
    "sample_dict = {\n",
    "    'emp1': {'name': 'Jhony', 'salary': 7500},\n",
    "    'emp2': {'name': 'Ravi', 'salary': 8000},\n",
    "    'emp3': {'name': 'Charan', 'salary': 6500}\n",
    "}"
   ]
  },
  {
   "cell_type": "code",
   "execution_count": 29,
   "metadata": {},
   "outputs": [
    {
     "data": {
      "text/plain": [
       "{'emp1': {'name': 'Jhony', 'salary': 7500},\n",
       " 'emp2': {'name': 'Ravi', 'salary': 8000},\n",
       " 'emp3': {'name': 'Charan', 'salary': 8500}}"
      ]
     },
     "execution_count": 29,
     "metadata": {},
     "output_type": "execute_result"
    }
   ],
   "source": [
    "sample_dict[\"emp3\"][\"salary\"] = 8500\n",
    "sample_dict"
   ]
  },
  {
   "cell_type": "markdown",
   "metadata": {},
   "source": [
    "**`Question:` Print the value of key ‘history’ from the below dict**"
   ]
  },
  {
   "cell_type": "raw",
   "metadata": {},
   "source": [
    "sampleDict = {\n",
    "    \"class\": {\n",
    "        \"student\": {\n",
    "            \"name\": \"Mike\",\n",
    "            \"marks\": {\n",
    "                \"physics\": 70,\n",
    "                \"history\": 80\n",
    "            }\n",
    "        }\n",
    "    }\n",
    "}"
   ]
  },
  {
   "cell_type": "code",
   "execution_count": 34,
   "metadata": {},
   "outputs": [],
   "source": [
    "# CODE HERE\n",
    "sampleDict = {\n",
    "    \"class\": {\n",
    "        \"student\": {\n",
    "            \"name\": \"Mike\",\n",
    "            \"marks\": {\n",
    "                \"physics\": 70,\n",
    "                \"history\": 80\n",
    "            }\n",
    "        }\n",
    "    }\n",
    "}"
   ]
  },
  {
   "cell_type": "code",
   "execution_count": 38,
   "metadata": {},
   "outputs": [
    {
     "data": {
      "text/plain": [
       "80"
      ]
     },
     "execution_count": 38,
     "metadata": {},
     "output_type": "execute_result"
    }
   ],
   "source": [
    "sampleDict['class'][\"student\"][\"marks\"][\"history\"]"
   ]
  },
  {
   "cell_type": "markdown",
   "metadata": {},
   "source": [
    "**`Question:` Rename a key Location to a Area in the following dictionary**"
   ]
  },
  {
   "cell_type": "raw",
   "metadata": {},
   "source": [
    "{'Gender': 'Male',\n",
    " 'Location': 'Nizampet, Hyderabad',\n",
    " 'Name': 'John',\n",
    " 'Occupation': 'Data Scientist'}"
   ]
  },
  {
   "cell_type": "code",
   "execution_count": null,
   "metadata": {},
   "outputs": [],
   "source": [
    "# CODE HERE\n",
    "d= {'Gender': 'Male',\n",
    " 'Location': 'Nizampet, Hyderabad',\n",
    " 'Name': 'John',\n",
    " 'Occupation': 'Data Scientist'}"
   ]
  },
  {
   "cell_type": "code",
   "execution_count": 40,
   "metadata": {},
   "outputs": [],
   "source": [
    "d= {'Gender': 'Male',\n",
    " 'Area': 'Nizampet, Hyderabad',\n",
    " 'Name': 'John',\n",
    " 'Occupation': 'Data Scientist'}"
   ]
  },
  {
   "cell_type": "code",
   "execution_count": 41,
   "metadata": {},
   "outputs": [
    {
     "data": {
      "text/plain": [
       "{'Gender': 'Male',\n",
       " 'Area': 'Nizampet, Hyderabad',\n",
       " 'Name': 'John',\n",
       " 'Occupation': 'Data Scientist'}"
      ]
     },
     "execution_count": 41,
     "metadata": {},
     "output_type": "execute_result"
    }
   ],
   "source": [
    "d"
   ]
  },
  {
   "cell_type": "markdown",
   "metadata": {},
   "source": [
    "**`Question:` database = {'ram':1234,'raghu':5678,'kanav':1357}**\n",
    "## Tasks :-\n",
    "### 1. if the username and password matches print hello username\n",
    "### 2. if the username and password doesnot match, ask, you want me to add into the database\n",
    "### 3. show the updated database list\n"
   ]
  },
  {
   "cell_type": "code",
   "execution_count": 49,
   "metadata": {},
   "outputs": [],
   "source": [
    "database = {'ram':1234,'raghu':5678,'kanav':1357}"
   ]
  },
  {
   "cell_type": "code",
   "execution_count": 50,
   "metadata": {},
   "outputs": [
    {
     "name": "stdout",
     "output_type": "stream",
     "text": [
      "Enter username: enoch\n",
      "Enter password: 3345\n",
      "No match found. Do you want to add the entry into the database (Y/N): y\n"
     ]
    },
    {
     "data": {
      "text/plain": [
       "{'ram': 1234, 'raghu': 5678, 'kanav': 1357, 'enoch': 3345}"
      ]
     },
     "execution_count": 50,
     "metadata": {},
     "output_type": "execute_result"
    }
   ],
   "source": [
    "username = input(\"Enter username: \")\n",
    "password = int(input(\"Enter password: \"))\n",
    "\n",
    "if username in database and password == database[username]:\n",
    "    print(\"Hello\", username)\n",
    "else:\n",
    "    ans = input(\"No match found. Do you want to add the entry into the database (Y/N): \").upper()\n",
    "    if ans == \"Y\":\n",
    "        database.update({username:password})\n",
    "\n",
    "database"
   ]
  },
  {
   "cell_type": "markdown",
   "metadata": {},
   "source": [
    "# [Innomatics Research Labs](https:/innomatics.in/)\n",
    "[www.innomatics.in](https:/innomatics.in/)"
   ]
  }
 ],
 "metadata": {
  "kernelspec": {
   "display_name": "Python 3 (ipykernel)",
   "language": "python",
   "name": "python3"
  },
  "language_info": {
   "codemirror_mode": {
    "name": "ipython",
    "version": 3
   },
   "file_extension": ".py",
   "mimetype": "text/x-python",
   "name": "python",
   "nbconvert_exporter": "python",
   "pygments_lexer": "ipython3",
   "version": "3.11.3"
  }
 },
 "nbformat": 4,
 "nbformat_minor": 2
}
